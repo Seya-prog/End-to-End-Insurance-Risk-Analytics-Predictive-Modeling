{
 "cells": [
  {
   "cell_type": "markdown",
   "metadata": {},
   "source": [
    "# Task 1 – Exploratory Data Analysis (EDA)\n",
    "This notebook performs the **minimum-essential** EDA requested for Week 3 Task 1:\n",
    "\n",
    "* Descriptive statistics & missing-value check\n",
    "* Univariate histograms for numeric features\n",
    "* Correlation heat-map\n",
    "* Top-10 categories bar-chart (categorical feature)\n"
   ]
  },
  {
   "cell_type": "code",
   "execution_count": null,
   "metadata": {},
   "outputs": [
    {
     "ename": "",
     "evalue": "",
     "output_type": "error",
     "traceback": [
      "\u001b[1;31mRunning cells with '.venv (Python 3.13.2)' requires the ipykernel package.\n",
      "\u001b[1;31mInstall 'ipykernel' into the Python environment. \n",
      "\u001b[1;31mCommand: '\"c:/Users/DELL/End-to-End Insurance Risk Analytics & Predictive Modeling/End-to-End-Insurance-Risk-Analytics-Predictive-Modeling/.venv/Scripts/python.exe\" -m pip install ipykernel -U --force-reinstall'"
     ]
    }
   ],
   "source": [
    "# --- Imports & settings ---\n",
    "import numpy as np\n",
    "import pandas as pd\n",
    "import matplotlib.pyplot as plt\n",
    "import seaborn as sns\n",
    "from pathlib import Path\n",
    "\n",
    "sns.set_style(\"whitegrid\")\n",
    "pd.set_option(\"display.max_columns\", 50)\n",
    "\n",
    "DATA_PATH = Path(\"../data/MachineLearningRating_v3.txt\")  # adjust as needed\n",
    "SAMPLE = 50_000  # set to None for full dataset\n",
    "SEED = 42\n"
   ]
  },
  {
   "cell_type": "code",
   "execution_count": null,
   "metadata": {},
   "outputs": [],
   "source": [
    "# --- Load dataset (auto-detect delimiter) ---\n",
    "def read_dataset(path: Path) -> pd.DataFrame:\n",
    "    for sep in (\"|\", \",\", \"\t\"):\n",
    "        try:\n",
    "            tmp = pd.read_csv(path, sep=sep, low_memory=False)\n",
    "            if tmp.shape[1] > 1:  # good split if >1 col\n",
    "                return tmp\n",
    "        except Exception:\n",
    "            pass\n",
    "    raise ValueError(f\"Unable to read {path}. Check delimiter.\")\n",
    "\n",
    "df = read_dataset(DATA_PATH)\n",
    "print(\"Loaded shape:\", df.shape)\n",
    "\n",
    "if SAMPLE is not None and SAMPLE < len(df):\n",
    "    df = df.sample(n=SAMPLE, random_state=SEED)\n",
    "    print(\"Sampled rows:\", df.shape)\n"
   ]
  },
  {
   "cell_type": "code",
   "execution_count": null,
   "metadata": {},
   "outputs": [],
   "source": [
    "# --- Descriptive statistics & missing-value report ---\n",
    "numeric_df = df.select_dtypes(include=\"number\")\n",
    "display(numeric_df.describe().T)\n",
    "\n",
    "missing = df.isna().sum().sort_values(ascending=False)\n",
    "display(missing[missing > 0].to_frame(\"missing\"))\n"
   ]
  },
  {
   "cell_type": "code",
   "execution_count": null,
   "metadata": {},
   "outputs": [],
   "source": [
    "# --- Histogram grid (first 12 numeric cols) ---\n",
    "cols = numeric_df.columns[:12]\n",
    "if not cols.empty:\n",
    "    numeric_df[cols].hist(bins=30, figsize=(15, 10))\n",
    "    plt.suptitle(\"Distribution of Numeric Features\", fontsize=16)\n",
    "    plt.tight_layout(rect=[0, 0.03, 1, 0.95])\n",
    "    plt.show()\n"
   ]
  },
  {
   "cell_type": "code",
   "execution_count": null,
   "metadata": {},
   "outputs": [],
   "source": [
    "# --- Correlation heat-map ---\n",
    "if numeric_df.shape[1] > 1:\n",
    "    corr = numeric_df.corr(numeric_only=True)\n",
    "    plt.figure(figsize=(12, 10))\n",
    "    sns.heatmap(corr, cmap=\"coolwarm\", center=0, square=True, linewidths=0.5)\n",
    "    plt.title(\"Pearson Correlation (numeric features)\")\n",
    "    plt.show()\n"
   ]
  },
  {
   "cell_type": "code",
   "execution_count": null,
   "metadata": {},
   "outputs": [],
   "source": [
    "# --- Top-10 categories bar chart ---\n",
    "cat_cols = [c for c in df.select_dtypes(include=\"object\").columns if df[c].nunique() <= 30]\n",
    "if cat_cols:\n",
    "    top_col = cat_cols[0]\n",
    "    top_counts = df[top_col].value_counts().head(10)\n",
    "    sns.barplot(x=top_counts.values, y=top_counts.index, palette=\"viridis\")\n",
    "    plt.xlabel(\"Frequency\")\n",
    "    plt.ylabel(top_col)\n",
    "    plt.title(f\"Top-10 categories for {top_col}\")\n",
    "    plt.show()\n"
   ]
  }
 ],
 "metadata": {
  "kernelspec": {
   "display_name": ".venv",
   "language": "python",
   "name": "python3"
  },
  "language_info": {
   "name": "python",
   "version": "3.13.2"
  }
 },
 "nbformat": 4,
 "nbformat_minor": 5
}
