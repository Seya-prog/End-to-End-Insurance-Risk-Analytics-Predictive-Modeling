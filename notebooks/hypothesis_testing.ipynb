{
 "cells": [
  {
   "cell_type": "markdown",
   "metadata": {},
   "source": [
    "# Task 3 – Hypothesis Testing on Risk Drivers\n",
    "This notebook evaluates four business hypotheses using a **single KPI – Loss Ratio (TotalClaims / TotalPremium)**.\n",
    "\n",
    "- **H₀ 1**: No risk (loss-ratio) difference across *provinces*\n",
    "- **H₀ 2**: No risk difference between *zip codes*\n",
    "- **H₀ 3**: No *margin* (profit) difference between zip codes\n",
    "- **H₀ 4**: No risk difference between *Women* and *Men*\n",
    "\n",
    "A p-value < 0.05 (α = 0.05) leads us to **reject** the null hypothesis."
   ]
  },
  {
   "cell_type": "code",
   "execution_count": null,
   "metadata": {},
   "outputs": [],
   "source": [
    "# Imports\n",
    "import pandas as pd, numpy as np\n",
    "from pathlib import Path\n",
    "from scipy import stats\n",
    "import seaborn as sns, matplotlib.pyplot as plt\n",
    "sns.set(style=\"whitegrid\")"
   ]
  },
  {
   "cell_type": "code",
   "execution_count": null,
   "metadata": {},
   "outputs": [],
   "source": [
    "# ---- 1. Load data ----\n",
    "DATA_PATH = Path('data') / 'MachineLearningRating_v3.txt'\n",
    "df = pd.read_csv(DATA_PATH, sep='|', low_memory=False)\n",
    "print('Shape:', df.shape)"
   ]
  },
  {
   "cell_type": "code",
   "execution_count": null,
   "metadata": {},
   "outputs": [],
   "source": [
    "# ---- 2. KPI Engineering ----\n",
    "df['LossRatio'] = df['TotalClaims'] / df['TotalPremium'].replace({0: np.nan})\n",
    "df = df.dropna(subset=['LossRatio'])\n",
    "df['LossRatio'] = df['LossRatio'].clip(upper=10)  # winsorise extreme outliers\n",
    "df['Margin']    = df['TotalPremium'] - df['TotalClaims']\n",
    "df['Gender']    = df['Gender'].str.title().fillna('Unknown')\n",
    "print(df[['LossRatio','Margin']].describe().T)"
   ]
  },
  {
   "cell_type": "markdown",
   "metadata": {},
   "source": [
    "## 3. Hypothesis 1 — Province vs Loss Ratio"
   ]
  },
  {
   "cell_type": "code",
   "execution_count": null,
   "metadata": {},
   "outputs": [],
   "source": [
    "groups = [g['LossRatio'].values for _, g in df.groupby('Province') if len(g) >= 30]  # min sample 30\n",
    "stat, p = stats.kruskal(*groups)\n",
    "print(f'Kruskal-Wallis H={stat:.2f}, p={p:.4g}')\n",
    "print('Reject H0' if p < 0.05 else 'Fail to reject H0')"
   ]
  },
  {
   "cell_type": "markdown",
   "metadata": {},
   "source": [
    "## 4. Hypothesis 2 — Zip Code vs Loss Ratio"
   ]
  },
  {
   "cell_type": "code",
   "execution_count": null,
   "metadata": {},
   "outputs": [],
   "source": [
    "zip_groups = [g['LossRatio'].values for _, g in df.groupby('PostalCode') if len(g) >= 30]  # keep all codes with >=30 records\n",
    "stat2, p2 = stats.kruskal(*zip_groups)\n",
    "print(f'Kruskal-Wallis H={stat2:.2f}, p={p2:.4g}')\n",
    "print('Reject H0' if p2 < 0.05 else 'Fail to reject H0')"
   ]
  },
  {
   "cell_type": "markdown",
   "metadata": {},
   "source": [
    "## 5. Hypothesis 3 — Margin Difference between Zip Codes"
   ]
  },
  {
   "cell_type": "code",
   "execution_count": null,
   "metadata": {},
   "outputs": [],
   "source": [
    "margin_groups = [g['Margin'].values for _, g in df.groupby('PostalCode') if len(g) >= 30]\n",
    "stat3, p3 = stats.kruskal(*margin_groups)\n",
    "print(f'Kruskal-Wallis H={stat3:.2f}, p={p3:.4g}')\n",
    "print('Reject H0' if p3 < 0.05 else 'Fail to reject H0')"
   ]
  },
  {
   "cell_type": "markdown",
   "metadata": {},
   "source": [
    "## 6. Hypothesis 4 — Gender vs Loss Ratio"
   ]
  },
  {
   "cell_type": "code",
   "execution_count": null,
   "metadata": {},
   "outputs": [],
   "source": [
    "male = df[df['Gender']=='Male']['LossRatio']\n",
    "female = df[df['Gender']=='Female']['LossRatio']\n",
    "stat4, p4 = stats.mannwhitneyu(male, female, alternative='two-sided')\n",
    "print(f'Mann-Whitney U={stat4:.2e}, p={p4:.4g}')\n",
    "print('Reject H0' if p4 < 0.05 else 'Fail to reject H0')"
   ]
  },
  {
   "cell_type": "markdown",
   "metadata": {},
   "source": [
    "## 7. Summary & Next Steps\n",
    "*Run all cells, review the printed decisions, then add business interpretation here.*"
   ]
  }
 ],
 "metadata": {
  "kernelspec": {
   "display_name": "Python (insure)",
   "language": "python",
   "name": "insure"
  },
  "language_info": {
   "name": "python",
   "version": "3.10"
  }
 },
 "nbformat": 4,
 "nbformat_minor": 5
}
